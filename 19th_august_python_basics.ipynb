{
 "cells": [
  {
   "cell_type": "code",
   "execution_count": 1,
   "id": "eafd16df-b3b6-4fe5-822f-5942f6327331",
   "metadata": {},
   "outputs": [],
   "source": [
    "x = 5"
   ]
  },
  {
   "cell_type": "code",
   "execution_count": 2,
   "id": "e46ea5e5-071a-43dd-8244-c0999056965e",
   "metadata": {},
   "outputs": [],
   "source": [
    "y = 10"
   ]
  },
  {
   "cell_type": "code",
   "execution_count": 3,
   "id": "1b86a4f4-7057-4038-9ea7-8c9a1da1967a",
   "metadata": {},
   "outputs": [],
   "source": [
    "x = x + y"
   ]
  },
  {
   "cell_type": "code",
   "execution_count": 4,
   "id": "2ea14c12-2a7b-4565-83b2-7e26fef4ae9b",
   "metadata": {},
   "outputs": [],
   "source": [
    "y = x - y "
   ]
  },
  {
   "cell_type": "code",
   "execution_count": 5,
   "id": "25d08d50-d29b-40a5-8c49-ad64a2f066c5",
   "metadata": {},
   "outputs": [],
   "source": [
    "x = x - y"
   ]
  },
  {
   "cell_type": "code",
   "execution_count": 6,
   "id": "6e7f045d-3bec-4319-ad9c-7f33d5806777",
   "metadata": {},
   "outputs": [
    {
     "name": "stdout",
     "output_type": "stream",
     "text": [
      "x: 10\n"
     ]
    }
   ],
   "source": [
    "print(\"x:\", x)"
   ]
  },
  {
   "cell_type": "code",
   "execution_count": 7,
   "id": "d44effa3-8ca8-4265-9358-b06670409393",
   "metadata": {},
   "outputs": [
    {
     "name": "stdout",
     "output_type": "stream",
     "text": [
      "y: 5\n"
     ]
    }
   ],
   "source": [
    "print(\"y:\", y)"
   ]
  },
  {
   "cell_type": "code",
   "execution_count": 8,
   "id": "fd11c998-f3ad-49bd-9269-7289c4c43b9c",
   "metadata": {},
   "outputs": [],
   "source": [
    "length = 5"
   ]
  },
  {
   "cell_type": "code",
   "execution_count": 12,
   "id": "69af6f15-beea-4513-bdf5-2767df080246",
   "metadata": {},
   "outputs": [],
   "source": [
    "width = 7"
   ]
  },
  {
   "cell_type": "code",
   "execution_count": 13,
   "id": "bf397204-7604-4f7f-b1d8-2fef22a05d92",
   "metadata": {},
   "outputs": [],
   "source": [
    "area = length*width"
   ]
  },
  {
   "cell_type": "code",
   "execution_count": 16,
   "id": "533fb3da-7693-44d9-aca1-1ec17f5fc91e",
   "metadata": {},
   "outputs": [
    {
     "name": "stdout",
     "output_type": "stream",
     "text": [
      "area: 35.0\n"
     ]
    }
   ],
   "source": [
    "print(\"area:\", area)"
   ]
  },
  {
   "cell_type": "code",
   "execution_count": 18,
   "id": "99684169-b07b-4b98-93de-79a09e51a94b",
   "metadata": {},
   "outputs": [],
   "source": [
    "celcius = 75"
   ]
  },
  {
   "cell_type": "code",
   "execution_count": 19,
   "id": "a454b9b3-67d9-433a-a792-2e644a67f375",
   "metadata": {},
   "outputs": [],
   "source": [
    "fahr = (celcius*9/5)+32"
   ]
  },
  {
   "cell_type": "code",
   "execution_count": 23,
   "id": "df25ebcc-ab57-4d7f-9177-fecbe96b77b3",
   "metadata": {},
   "outputs": [
    {
     "name": "stdout",
     "output_type": "stream",
     "text": [
      "fahr: 167.0\n"
     ]
    }
   ],
   "source": [
    "print(\"fahr:\", fahr)"
   ]
  },
  {
   "cell_type": "code",
   "execution_count": 25,
   "id": "732f5deb-5c4d-4305-a2fb-fe40e73a5adf",
   "metadata": {},
   "outputs": [],
   "source": [
    "s = \"blackbox\""
   ]
  },
  {
   "cell_type": "code",
   "execution_count": 27,
   "id": "a8297747-6501-4ae3-94f7-a2a82737b5bb",
   "metadata": {},
   "outputs": [],
   "source": [
    "length = len(s)"
   ]
  },
  {
   "cell_type": "code",
   "execution_count": 42,
   "id": "a8872cf8-073a-4230-a0b9-6b3cabead969",
   "metadata": {},
   "outputs": [
    {
     "name": "stdout",
     "output_type": "stream",
     "text": [
      "length: 8\n"
     ]
    }
   ],
   "source": [
    "print(\"length:\", length)"
   ]
  },
  {
   "cell_type": "code",
   "execution_count": 43,
   "id": "9bc33c45-e6c2-4a46-be89-1ca240287aff",
   "metadata": {},
   "outputs": [],
   "source": [
    "s1 = (\"my name is vinit:\")"
   ]
  },
  {
   "cell_type": "code",
   "execution_count": 44,
   "id": "1d73f890-6aab-43e1-9eaa-a92900f6de5a",
   "metadata": {},
   "outputs": [],
   "source": [
    "s1 = s1.lower()"
   ]
  },
  {
   "cell_type": "code",
   "execution_count": 45,
   "id": "06ce505e-ca77-4d62-a4fc-cd996cf7072f",
   "metadata": {},
   "outputs": [],
   "source": [
    "vowel_count = 0"
   ]
  },
  {
   "cell_type": "code",
   "execution_count": 47,
   "id": "e3df8e66-1616-44cc-b968-9a8ee4b7ab7a",
   "metadata": {},
   "outputs": [],
   "source": [
    "for char in s1:\n",
    "    if char in \"aeiou\":\n",
    "        vowel_count += 1"
   ]
  },
  {
   "cell_type": "code",
   "execution_count": 50,
   "id": "cc5e4edb-0772-4356-9bad-9ba15b4fc178",
   "metadata": {},
   "outputs": [
    {
     "name": "stdout",
     "output_type": "stream",
     "text": [
      "the number of vowels in the sentence is: 5\n"
     ]
    }
   ],
   "source": [
    "print(f\"the number of vowels in the sentence is: {vowel_count}\")"
   ]
  },
  {
   "cell_type": "code",
   "execution_count": 57,
   "id": "80e775f5-3665-4c3b-961f-b172a610a881",
   "metadata": {},
   "outputs": [],
   "source": [
    "s3 = \"vinit\""
   ]
  },
  {
   "cell_type": "code",
   "execution_count": 73,
   "id": "72697f41-64ae-425b-a053-226d4be664eb",
   "metadata": {},
   "outputs": [
    {
     "data": {
      "text/plain": [
       "'tiniv'"
      ]
     },
     "execution_count": 73,
     "metadata": {},
     "output_type": "execute_result"
    }
   ],
   "source": [
    "s3[::-1]"
   ]
  },
  {
   "cell_type": "code",
   "execution_count": 76,
   "id": "108b4513-8f5e-4bcd-afd9-bff2a4faa834",
   "metadata": {},
   "outputs": [],
   "source": [
    "s4 = (\"pwskills: \")"
   ]
  },
  {
   "cell_type": "code",
   "execution_count": 75,
   "id": "03d97588-ff85-4935-a229-91e2339ea95c",
   "metadata": {},
   "outputs": [],
   "source": [
    "reversed_s4 = s4[::-1]"
   ]
  },
  {
   "cell_type": "code",
   "execution_count": 77,
   "id": "a6b53792-bb5b-4327-b2b2-8d0a058627c4",
   "metadata": {},
   "outputs": [
    {
     "name": "stdout",
     "output_type": "stream",
     "text": [
      "The input string is not a palindrome.\n"
     ]
    }
   ],
   "source": [
    "if s4 == reversed_s4:\n",
    "    print(\"The input string is a palindrome.\")\n",
    "else:\n",
    "    print(\"The input string is not a palindrome.\")"
   ]
  },
  {
   "cell_type": "code",
   "execution_count": 78,
   "id": "856a4f5d-cd01-4fd8-b396-2d788172c940",
   "metadata": {},
   "outputs": [],
   "source": [
    "s5 = \"physics is nice\""
   ]
  },
  {
   "cell_type": "code",
   "execution_count": 84,
   "id": "63b164b1-6378-47a2-bf59-9e2d9bff999d",
   "metadata": {},
   "outputs": [],
   "source": [
    "s6 = s5.replace(\" \", \"\")"
   ]
  },
  {
   "cell_type": "code",
   "execution_count": 86,
   "id": "c9efddea-72a6-445d-8cf0-d816964c2e54",
   "metadata": {},
   "outputs": [
    {
     "name": "stdout",
     "output_type": "stream",
     "text": [
      "s6: physicsisnice\n"
     ]
    }
   ],
   "source": [
    "print(\"s6:\", s6)"
   ]
  },
  {
   "cell_type": "code",
   "execution_count": null,
   "id": "19a5ae99-8e4c-4060-87ba-3adebf5e61a5",
   "metadata": {},
   "outputs": [],
   "source": []
  }
 ],
 "metadata": {
  "kernelspec": {
   "display_name": "Python 3 (ipykernel)",
   "language": "python",
   "name": "python3"
  },
  "language_info": {
   "codemirror_mode": {
    "name": "ipython",
    "version": 3
   },
   "file_extension": ".py",
   "mimetype": "text/x-python",
   "name": "python",
   "nbconvert_exporter": "python",
   "pygments_lexer": "ipython3",
   "version": "3.10.8"
  }
 },
 "nbformat": 4,
 "nbformat_minor": 5
}
